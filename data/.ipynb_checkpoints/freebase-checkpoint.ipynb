{
 "cells": [
  {
   "cell_type": "code",
   "execution_count": 1,
   "metadata": {},
   "outputs": [
    {
     "name": "stderr",
     "output_type": "stream",
     "text": [
      "Using backend: pytorch\n"
     ]
    }
   ],
   "source": [
    "from tqdm import tqdm\n",
    "import ast\n",
    "from sklearn.feature_extraction.text import TfidfVectorizer\n",
    "from scipy.sparse import csr_matrix, coo_matrix\n",
    "import pickle as pkl\n",
    "import csv\n",
    "import pandas as pd\n",
    "import numpy as np\n",
    "import os\n",
    "import random\n",
    "import scipy.io as sio\n",
    "import os\n",
    "from collections import Counter, defaultdict, OrderedDict\n",
    "import random\n",
    "import numpy as np\n",
    "import scipy.sparse as sp\n",
    "import pandas as pd\n",
    "import pickle as pkl\n",
    "from sklearn.metrics import f1_score, auc, roc_auc_score, precision_recall_curve\n",
    "import dgl\n",
    "import pandas as pd"
   ]
  },
  {
   "cell_type": "code",
   "execution_count": 2,
   "metadata": {},
   "outputs": [
    {
     "data": {
      "text/html": [
       "<div>\n",
       "<style scoped>\n",
       "    .dataframe tbody tr th:only-of-type {\n",
       "        vertical-align: middle;\n",
       "    }\n",
       "\n",
       "    .dataframe tbody tr th {\n",
       "        vertical-align: top;\n",
       "    }\n",
       "\n",
       "    .dataframe thead th {\n",
       "        text-align: right;\n",
       "    }\n",
       "</style>\n",
       "<table border=\"1\" class=\"dataframe\">\n",
       "  <thead>\n",
       "    <tr style=\"text-align: right;\">\n",
       "      <th></th>\n",
       "      <th>0</th>\n",
       "      <th>1</th>\n",
       "      <th>2</th>\n",
       "    </tr>\n",
       "  </thead>\n",
       "  <tbody>\n",
       "    <tr>\n",
       "      <th>0</th>\n",
       "      <td>59829</td>\n",
       "      <td>wowee_zowee:_sordid_sentinels_edition</td>\n",
       "      <td>2</td>\n",
       "    </tr>\n",
       "    <tr>\n",
       "      <th>1</th>\n",
       "      <td>160846</td>\n",
       "      <td>youngstown</td>\n",
       "      <td>5</td>\n",
       "    </tr>\n",
       "    <tr>\n",
       "      <th>2</th>\n",
       "      <td>59830</td>\n",
       "      <td>altro</td>\n",
       "      <td>2</td>\n",
       "    </tr>\n",
       "    <tr>\n",
       "      <th>3</th>\n",
       "      <td>59831</td>\n",
       "      <td>crazy</td>\n",
       "      <td>2</td>\n",
       "    </tr>\n",
       "    <tr>\n",
       "      <th>4</th>\n",
       "      <td>0</td>\n",
       "      <td>agnes_grey</td>\n",
       "      <td>0</td>\n",
       "    </tr>\n",
       "    <tr>\n",
       "      <th>...</th>\n",
       "      <td>...</td>\n",
       "      <td>...</td>\n",
       "      <td>...</td>\n",
       "    </tr>\n",
       "    <tr>\n",
       "      <th>180093</th>\n",
       "      <td>160844</td>\n",
       "      <td>yves_congar</td>\n",
       "      <td>4</td>\n",
       "    </tr>\n",
       "    <tr>\n",
       "      <th>180094</th>\n",
       "      <td>40400</td>\n",
       "      <td>density_estimation_-_two-step_method</td>\n",
       "      <td>0</td>\n",
       "    </tr>\n",
       "    <tr>\n",
       "      <th>180095</th>\n",
       "      <td>40401</td>\n",
       "      <td>7th_century_bc</td>\n",
       "      <td>0</td>\n",
       "    </tr>\n",
       "    <tr>\n",
       "      <th>180096</th>\n",
       "      <td>180097</td>\n",
       "      <td>view_askew_productions</td>\n",
       "      <td>7</td>\n",
       "    </tr>\n",
       "    <tr>\n",
       "      <th>180097</th>\n",
       "      <td>160845</td>\n",
       "      <td>ford_madox_ford</td>\n",
       "      <td>4</td>\n",
       "    </tr>\n",
       "  </tbody>\n",
       "</table>\n",
       "<p>180098 rows × 3 columns</p>\n",
       "</div>"
      ],
      "text/plain": [
       "             0                                      1  2\n",
       "0        59829  wowee_zowee:_sordid_sentinels_edition  2\n",
       "1       160846                             youngstown  5\n",
       "2        59830                                  altro  2\n",
       "3        59831                                  crazy  2\n",
       "4            0                             agnes_grey  0\n",
       "...        ...                                    ... ..\n",
       "180093  160844                            yves_congar  4\n",
       "180094   40400   density_estimation_-_two-step_method  0\n",
       "180095   40401                         7th_century_bc  0\n",
       "180096  180097                 view_askew_productions  7\n",
       "180097  160845                        ford_madox_ford  4\n",
       "\n",
       "[180098 rows x 3 columns]"
      ]
     },
     "execution_count": 2,
     "metadata": {},
     "output_type": "execute_result"
    }
   ],
   "source": [
    "node_df = pd.read_csv(\"node.dat\", sep='\\t', header=None)\n",
    "node_df"
   ]
  },
  {
   "cell_type": "code",
   "execution_count": 3,
   "metadata": {},
   "outputs": [
    {
     "data": {
      "text/plain": [
       "2    82351\n",
       "0    40402\n",
       "1    19427\n",
       "4    17641\n",
       "5     9368\n",
       "7     7153\n",
       "6     2731\n",
       "3     1025\n",
       "Name: 2, dtype: int64"
      ]
     },
     "execution_count": 3,
     "metadata": {},
     "output_type": "execute_result"
    }
   ],
   "source": [
    "node_df[2].value_counts()"
   ]
  },
  {
   "cell_type": "code",
   "execution_count": 4,
   "metadata": {},
   "outputs": [],
   "source": [
    "node_2_type = dict()\n",
    "node_id2index = dict()\n",
    "node_id2name = dict()\n",
    "idx = 0\n",
    "for index, row in node_df.iterrows():\n",
    "    node_id, node_name, node_type = int(row[0]), str(row[1]), int(row[2])\n",
    "    node_2_type[node_id] = node_type\n",
    "    node_id2index[node_id] = idx\n",
    "    node_id2name[node_id] = node_name\n",
    "    idx += 1"
   ]
  },
  {
   "cell_type": "code",
   "execution_count": 5,
   "metadata": {},
   "outputs": [
    {
     "data": {
      "text/html": [
       "<div>\n",
       "<style scoped>\n",
       "    .dataframe tbody tr th:only-of-type {\n",
       "        vertical-align: middle;\n",
       "    }\n",
       "\n",
       "    .dataframe tbody tr th {\n",
       "        vertical-align: top;\n",
       "    }\n",
       "\n",
       "    .dataframe thead th {\n",
       "        text-align: right;\n",
       "    }\n",
       "</style>\n",
       "<table border=\"1\" class=\"dataframe\">\n",
       "  <thead>\n",
       "    <tr style=\"text-align: right;\">\n",
       "      <th></th>\n",
       "      <th>0</th>\n",
       "      <th>1</th>\n",
       "      <th>2</th>\n",
       "      <th>3</th>\n",
       "    </tr>\n",
       "  </thead>\n",
       "  <tbody>\n",
       "    <tr>\n",
       "      <th>0</th>\n",
       "      <td>75175</td>\n",
       "      <td>75175</td>\n",
       "      <td>8</td>\n",
       "      <td>1.0</td>\n",
       "    </tr>\n",
       "    <tr>\n",
       "      <th>1</th>\n",
       "      <td>80726</td>\n",
       "      <td>80726</td>\n",
       "      <td>8</td>\n",
       "      <td>1.0</td>\n",
       "    </tr>\n",
       "    <tr>\n",
       "      <th>2</th>\n",
       "      <td>66516</td>\n",
       "      <td>66516</td>\n",
       "      <td>8</td>\n",
       "      <td>1.0</td>\n",
       "    </tr>\n",
       "    <tr>\n",
       "      <th>3</th>\n",
       "      <td>74616</td>\n",
       "      <td>74616</td>\n",
       "      <td>8</td>\n",
       "      <td>1.0</td>\n",
       "    </tr>\n",
       "    <tr>\n",
       "      <th>4</th>\n",
       "      <td>60634</td>\n",
       "      <td>60634</td>\n",
       "      <td>8</td>\n",
       "      <td>1.0</td>\n",
       "    </tr>\n",
       "    <tr>\n",
       "      <th>...</th>\n",
       "      <td>...</td>\n",
       "      <td>...</td>\n",
       "      <td>...</td>\n",
       "      <td>...</td>\n",
       "    </tr>\n",
       "    <tr>\n",
       "      <th>1057683</th>\n",
       "      <td>40397</td>\n",
       "      <td>34114</td>\n",
       "      <td>0</td>\n",
       "      <td>1.0</td>\n",
       "    </tr>\n",
       "    <tr>\n",
       "      <th>1057684</th>\n",
       "      <td>40397</td>\n",
       "      <td>35372</td>\n",
       "      <td>0</td>\n",
       "      <td>1.0</td>\n",
       "    </tr>\n",
       "    <tr>\n",
       "      <th>1057685</th>\n",
       "      <td>40397</td>\n",
       "      <td>39166</td>\n",
       "      <td>0</td>\n",
       "      <td>1.0</td>\n",
       "    </tr>\n",
       "    <tr>\n",
       "      <th>1057686</th>\n",
       "      <td>40398</td>\n",
       "      <td>33084</td>\n",
       "      <td>0</td>\n",
       "      <td>1.0</td>\n",
       "    </tr>\n",
       "    <tr>\n",
       "      <th>1057687</th>\n",
       "      <td>40399</td>\n",
       "      <td>23845</td>\n",
       "      <td>0</td>\n",
       "      <td>1.0</td>\n",
       "    </tr>\n",
       "  </tbody>\n",
       "</table>\n",
       "<p>1057688 rows × 4 columns</p>\n",
       "</div>"
      ],
      "text/plain": [
       "             0      1  2    3\n",
       "0        75175  75175  8  1.0\n",
       "1        80726  80726  8  1.0\n",
       "2        66516  66516  8  1.0\n",
       "3        74616  74616  8  1.0\n",
       "4        60634  60634  8  1.0\n",
       "...        ...    ... ..  ...\n",
       "1057683  40397  34114  0  1.0\n",
       "1057684  40397  35372  0  1.0\n",
       "1057685  40397  39166  0  1.0\n",
       "1057686  40398  33084  0  1.0\n",
       "1057687  40399  23845  0  1.0\n",
       "\n",
       "[1057688 rows x 4 columns]"
      ]
     },
     "execution_count": 5,
     "metadata": {},
     "output_type": "execute_result"
    }
   ],
   "source": [
    "link_df = pd.read_csv(\"link.dat\", sep='\\t', header=None)\n",
    "edges_df = link_df.loc[(link_df[0].isin(node_id2index.keys())) & (link_df[1].isin(node_id2index.keys()))]\n",
    "edges_df"
   ]
  },
  {
   "cell_type": "code",
   "execution_count": 6,
   "metadata": {},
   "outputs": [],
   "source": [
    "total_nodes = max(node_id2index.values())+1\n",
    "node_list = list()\n",
    "for key, value in node_id2index.items():\n",
    "    item_idx = value\n",
    "    name = node_id2name[key]\n",
    "    item_type = node_2_type[key]\n",
    "    assert item_idx < total_nodes\n",
    "    node_list.append((item_idx, name, item_type))\n",
    "n_node_df = pd.DataFrame(node_list)\n",
    "n_node_df.to_csv(\"node.dat.new\", sep=\"\\t\", header=None, index=False)"
   ]
  },
  {
   "cell_type": "code",
   "execution_count": 7,
   "metadata": {},
   "outputs": [
    {
     "name": "stderr",
     "output_type": "stream",
     "text": [
      "1057688it [01:22, 12777.28it/s]\n"
     ]
    }
   ],
   "source": [
    "n_edge_list = list()\n",
    "idx = 0\n",
    "for index, row in tqdm(edges_df.iterrows()):\n",
    "    h_idx, t_idx, r_id, link_weight = node_id2index[int(row[0])], node_id2index[int(row[1])], int(row[2]), float(\n",
    "                    row[3])\n",
    "    assert h_idx < total_nodes\n",
    "    assert t_idx < total_nodes\n",
    "    n_edge_list.append((h_idx, t_idx, r_id, link_weight))\n",
    "    idx += 1\n",
    "n_edge_df = pd.DataFrame(n_edge_list)\n",
    "n_edge_df.to_csv(\"link.dat.new\", sep=\"\\t\", header=None, index=False)"
   ]
  },
  {
   "cell_type": "code",
   "execution_count": 8,
   "metadata": {},
   "outputs": [
    {
     "name": "stderr",
     "output_type": "stream",
     "text": [
      "100%|██████████| 1057688/1057688 [00:01<00:00, 682637.58it/s]\n"
     ]
    }
   ],
   "source": [
    "links = defaultdict(dict)\n",
    "edges = defaultdict(list)\n",
    "for items in tqdm(n_edge_list):\n",
    "    h_idx, t_idx, r_id, link_weight = items[0], items[1], items[2], items[3]\n",
    "    assert h_idx < total_nodes\n",
    "    assert t_idx < total_nodes\n",
    "    links[r_id][(h_idx, t_idx)] = link_weight\n",
    "    edges[r_id].append((h_idx, t_idx, link_weight))"
   ]
  },
  {
   "cell_type": "code",
   "execution_count": 9,
   "metadata": {},
   "outputs": [],
   "source": [
    "def list_to_sp_mat(li, total_nodes):\n",
    "    # (h, t, w)\n",
    "    data = [x[2] for x in li]\n",
    "    i = [x[0] for x in li]\n",
    "    j = [x[1] for x in li]\n",
    "    return sp.coo_matrix((data, (i, j)), shape=(total_nodes, total_nodes)).tocsr()"
   ]
  },
  {
   "cell_type": "code",
   "execution_count": 10,
   "metadata": {},
   "outputs": [],
   "source": [
    "new_data = {}\n",
    "for r_id in edges:\n",
    "    new_data[r_id] = list_to_sp_mat(edges[r_id], total_nodes)\n",
    "edges = new_data"
   ]
  },
  {
   "cell_type": "code",
   "execution_count": 11,
   "metadata": {},
   "outputs": [
    {
     "name": "stderr",
     "output_type": "stream",
     "text": [
      "/home/anasua/anaconda3/envs/HGT/lib/python3.7/site-packages/dgl/base.py:45: DGLWarning: Recommend creating graphs by `dgl.graph(data)` instead of `dgl.DGLGraph(data)`.\n",
      "  return warnings.warn(message, category=category, stacklevel=1)\n"
     ]
    },
    {
     "data": {
      "text/plain": [
       "Graph(num_nodes=180098, num_edges=187638,\n",
       "      ndata_schemes={}\n",
       "      edata_schemes={})"
      ]
     },
     "execution_count": 11,
     "metadata": {},
     "output_type": "execute_result"
    }
   ],
   "source": [
    "target_link_type = 0\n",
    "adj = edges[target_link_type]\n",
    "g = dgl.DGLGraph(adj)\n",
    "g = dgl.remove_self_loop(g)\n",
    "g"
   ]
  },
  {
   "cell_type": "code",
   "execution_count": 12,
   "metadata": {},
   "outputs": [],
   "source": [
    "u, v = g.edges()\n",
    "eids = np.arange(g.number_of_edges())\n",
    "eids = np.random.permutation(eids)\n",
    "test_size = int(len(eids) * 0.1)\n",
    "train_size = g.number_of_edges() - test_size\n",
    "test_pos_u, test_pos_v = u[eids[:test_size]], v[eids[:test_size]]\n",
    "train_pos_u, train_pos_v = u[eids[test_size:]], v[eids[test_size:]]"
   ]
  },
  {
   "cell_type": "code",
   "execution_count": 13,
   "metadata": {},
   "outputs": [
    {
     "name": "stderr",
     "output_type": "stream",
     "text": [
      "100%|██████████| 1057688/1057688 [00:00<00:00, 1257405.53it/s]\n"
     ]
    }
   ],
   "source": [
    "all_list = set()\n",
    "for items in tqdm(n_edge_list):\n",
    "    h_idx, t_idx, r_id, link_weight = items[0], items[1], items[2], items[3]\n",
    "    if r_id == target_link_type:\n",
    "        all_list.add((h_idx, t_idx, link_weight))"
   ]
  },
  {
   "cell_type": "code",
   "execution_count": 14,
   "metadata": {},
   "outputs": [],
   "source": [
    "test_list = set()\n",
    "for u, v in list(zip(test_pos_u, test_pos_v)):\n",
    "    test_list.add((u.item(), v.item(), 1.0))\n",
    "    test_list.add((v.item(), u.item(), 1.0))"
   ]
  },
  {
   "cell_type": "code",
   "execution_count": 15,
   "metadata": {},
   "outputs": [],
   "source": [
    "train_list = all_list - test_list"
   ]
  },
  {
   "cell_type": "code",
   "execution_count": 16,
   "metadata": {},
   "outputs": [
    {
     "data": {
      "text/html": [
       "<div>\n",
       "<style scoped>\n",
       "    .dataframe tbody tr th:only-of-type {\n",
       "        vertical-align: middle;\n",
       "    }\n",
       "\n",
       "    .dataframe tbody tr th {\n",
       "        vertical-align: top;\n",
       "    }\n",
       "\n",
       "    .dataframe thead th {\n",
       "        text-align: right;\n",
       "    }\n",
       "</style>\n",
       "<table border=\"1\" class=\"dataframe\">\n",
       "  <thead>\n",
       "    <tr style=\"text-align: right;\">\n",
       "      <th></th>\n",
       "      <th>0</th>\n",
       "      <th>1</th>\n",
       "      <th>2</th>\n",
       "      <th>3</th>\n",
       "    </tr>\n",
       "  </thead>\n",
       "  <tbody>\n",
       "    <tr>\n",
       "      <th>0</th>\n",
       "      <td>123339</td>\n",
       "      <td>73933</td>\n",
       "      <td>0</td>\n",
       "      <td>1.0</td>\n",
       "    </tr>\n",
       "    <tr>\n",
       "      <th>1</th>\n",
       "      <td>171054</td>\n",
       "      <td>153195</td>\n",
       "      <td>0</td>\n",
       "      <td>1.0</td>\n",
       "    </tr>\n",
       "    <tr>\n",
       "      <th>2</th>\n",
       "      <td>53834</td>\n",
       "      <td>174081</td>\n",
       "      <td>0</td>\n",
       "      <td>1.0</td>\n",
       "    </tr>\n",
       "    <tr>\n",
       "      <th>3</th>\n",
       "      <td>145174</td>\n",
       "      <td>3805</td>\n",
       "      <td>0</td>\n",
       "      <td>1.0</td>\n",
       "    </tr>\n",
       "    <tr>\n",
       "      <th>4</th>\n",
       "      <td>35660</td>\n",
       "      <td>107325</td>\n",
       "      <td>0</td>\n",
       "      <td>1.0</td>\n",
       "    </tr>\n",
       "    <tr>\n",
       "      <th>...</th>\n",
       "      <td>...</td>\n",
       "      <td>...</td>\n",
       "      <td>...</td>\n",
       "      <td>...</td>\n",
       "    </tr>\n",
       "    <tr>\n",
       "      <th>36361</th>\n",
       "      <td>3447</td>\n",
       "      <td>82138</td>\n",
       "      <td>0</td>\n",
       "      <td>1.0</td>\n",
       "    </tr>\n",
       "    <tr>\n",
       "      <th>36362</th>\n",
       "      <td>35789</td>\n",
       "      <td>148175</td>\n",
       "      <td>0</td>\n",
       "      <td>1.0</td>\n",
       "    </tr>\n",
       "    <tr>\n",
       "      <th>36363</th>\n",
       "      <td>118753</td>\n",
       "      <td>73842</td>\n",
       "      <td>0</td>\n",
       "      <td>1.0</td>\n",
       "    </tr>\n",
       "    <tr>\n",
       "      <th>36364</th>\n",
       "      <td>5494</td>\n",
       "      <td>158079</td>\n",
       "      <td>0</td>\n",
       "      <td>1.0</td>\n",
       "    </tr>\n",
       "    <tr>\n",
       "      <th>36365</th>\n",
       "      <td>52673</td>\n",
       "      <td>167258</td>\n",
       "      <td>0</td>\n",
       "      <td>1.0</td>\n",
       "    </tr>\n",
       "  </tbody>\n",
       "</table>\n",
       "<p>36366 rows × 4 columns</p>\n",
       "</div>"
      ],
      "text/plain": [
       "            0       1  2    3\n",
       "0      123339   73933  0  1.0\n",
       "1      171054  153195  0  1.0\n",
       "2       53834  174081  0  1.0\n",
       "3      145174    3805  0  1.0\n",
       "4       35660  107325  0  1.0\n",
       "...       ...     ... ..  ...\n",
       "36361    3447   82138  0  1.0\n",
       "36362   35789  148175  0  1.0\n",
       "36363  118753   73842  0  1.0\n",
       "36364    5494  158079  0  1.0\n",
       "36365   52673  167258  0  1.0\n",
       "\n",
       "[36366 rows x 4 columns]"
      ]
     },
     "execution_count": 16,
     "metadata": {},
     "output_type": "execute_result"
    }
   ],
   "source": [
    "df = pd.DataFrame(set(test_list))\n",
    "df[3] = df[2]\n",
    "df[2] = target_link_type\n",
    "df"
   ]
  },
  {
   "cell_type": "code",
   "execution_count": 17,
   "metadata": {},
   "outputs": [],
   "source": [
    "df.to_csv(\"link.dat.test.new\", sep=\"\\t\", header=None, index=False)\n",
    "edges_df = pd.read_csv(\"link.dat.test.new\", sep=\"\\t\", header=None)"
   ]
  },
  {
   "cell_type": "code",
   "execution_count": 18,
   "metadata": {},
   "outputs": [],
   "source": [
    "final_train_df = set()\n",
    "for item in train_list:\n",
    "    final_train_df.add((item[0], item[1], target_link_type, item[2]))\n",
    "for key, value in links.items():\n",
    "    if key != target_link_type:\n",
    "        for (h_id, t_id) in value:\n",
    "            final_train_df.add((h_id, t_id, key, value[(h_id, t_id)]))"
   ]
  },
  {
   "cell_type": "code",
   "execution_count": null,
   "metadata": {},
   "outputs": [],
   "source": []
  }
 ],
 "metadata": {
  "kernelspec": {
   "display_name": "Python 3",
   "language": "python",
   "name": "python3"
  },
  "language_info": {
   "codemirror_mode": {
    "name": "ipython",
    "version": 3
   },
   "file_extension": ".py",
   "mimetype": "text/x-python",
   "name": "python",
   "nbconvert_exporter": "python",
   "pygments_lexer": "ipython3",
   "version": "3.7.11"
  }
 },
 "nbformat": 4,
 "nbformat_minor": 4
}
